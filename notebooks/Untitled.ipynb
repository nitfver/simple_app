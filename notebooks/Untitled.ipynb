{
 "cells": [
  {
   "cell_type": "markdown",
   "id": "b27608e6-609c-4ab5-ad11-cadf8ee0636f",
   "metadata": {},
   "source": [
    "# import os \n",
    "import pandas as pd"
   ]
  },
  {
   "cell_type": "code",
   "execution_count": 2,
   "id": "62ab36d7-f228-43b3-b1bd-3688ffe45442",
   "metadata": {},
   "outputs": [
    {
     "ename": "SyntaxError",
     "evalue": "invalid syntax (<ipython-input-2-842c6965bc3a>, line 1)",
     "output_type": "error",
     "traceback": [
      "\u001b[1;36m  File \u001b[1;32m\"<ipython-input-2-842c6965bc3a>\"\u001b[1;36m, line \u001b[1;32m1\u001b[0m\n\u001b[1;33m    cd ..\u001b[0m\n\u001b[1;37m        ^\u001b[0m\n\u001b[1;31mSyntaxError\u001b[0m\u001b[1;31m:\u001b[0m invalid syntax\n"
     ]
    }
   ],
   "source": [
    "cd ..\n",
    "pwd\n"
   ]
  },
  {
   "cell_type": "code",
   "execution_count": 5,
   "id": "69a892f2-b567-4adf-a847-a12ecebb467f",
   "metadata": {},
   "outputs": [
    {
     "data": {
      "text/plain": [
       "'C:\\\\Users\\\\nitfv\\\\PycharmProjects\\\\simple_app\\\\notebooks'"
      ]
     },
     "execution_count": 5,
     "metadata": {},
     "output_type": "execute_result"
    }
   ],
   "source": [
    "pwd"
   ]
  },
  {
   "cell_type": "code",
   "execution_count": 4,
   "id": "bcfd4d2b-1206-4de6-8853-56e8b50fb2a7",
   "metadata": {},
   "outputs": [
    {
     "name": "stdout",
     "output_type": "stream",
     "text": [
      "{   'creation_timestamp': 1622481235321,\n",
      "    'current_stage': 'Production',\n",
      "    'description': '',\n",
      "    'last_updated_timestamp': 1622481518807,\n",
      "    'name': 'ElasticNetWineModel',\n",
      "    'run_id': '8b5b6a12f91f477fb438e1a7d2296ea1',\n",
      "    'run_link': '',\n",
      "    'source': './artifacts/1/8b5b6a12f91f477fb438e1a7d2296ea1/artifacts/model',\n",
      "    'status': 'READY',\n",
      "    'status_message': '',\n",
      "    'tags': {},\n",
      "    'user_id': '',\n",
      "    'version': '3'}\n"
     ]
    }
   ],
   "source": [
    "from src.get_data import read_params\n",
    "import argparse\n",
    "import mlflow\n",
    "from mlflow.tracking import MlflowClient\n",
    "from pprint import pprint\n",
    "import joblib\n",
    "import os\n",
    "\n",
    "\n",
    "\n",
    "def log_production_model(config_path):\n",
    "    config = read_params(config_path)\n",
    "    mlflow_config = config[\"mlflow_config\"]\n",
    "    model_name = mlflow_config[\"registered_model_name\"]\n",
    "    remote_server_uri = mlflow_config[\"remote_server_uri\"]\n",
    "\n",
    "    mlflow.set_tracking_uri(remote_server_uri)\n",
    "\n",
    "    runs = mlflow.search_runs(experiment_ids=1)\n",
    "    lowest = runs[\"metrics.mae\"].sort_values(ascending=True)[0]\n",
    "    lowest_run_id = runs[runs[\"metrics.mae\"] == lowest][\"run_id\"][0]\n",
    "    \n",
    "    client = MlflowClient()\n",
    "    for mv in client.search_model_versions(f\"name='{model_name}'\"):\n",
    "        mv = dict(mv)\n",
    "        \n",
    "        if mv[\"run_id\"] == lowest_run_id:\n",
    "            current_version = mv[\"version\"]\n",
    "            logged_model = mv[\"source\"]\n",
    "            pprint(mv, indent=4)\n",
    "            client.transition_model_version_stage(\n",
    "                name=model_name,\n",
    "                version=current_version,\n",
    "                stage=\"Production\"\n",
    "            )\n",
    "        else:\n",
    "            current_version = mv[\"version\"]\n",
    "            client.transition_model_version_stage(\n",
    "                name=model_name,\n",
    "                version=current_version,\n",
    "                stage=\"Staging\"\n",
    "            )        \n",
    "\n",
    "\n",
    "log_production_model(\"../params.yaml\")"
   ]
  },
  {
   "cell_type": "code",
   "execution_count": null,
   "id": "460c6e53-ea18-460c-8f0e-4d2293a361b8",
   "metadata": {},
   "outputs": [],
   "source": []
  }
 ],
 "metadata": {
  "kernelspec": {
   "display_name": "Python 3",
   "language": "python",
   "name": "python3"
  },
  "language_info": {
   "codemirror_mode": {
    "name": "ipython",
    "version": 3
   },
   "file_extension": ".py",
   "mimetype": "text/x-python",
   "name": "python",
   "nbconvert_exporter": "python",
   "pygments_lexer": "ipython3",
   "version": "3.7.10"
  }
 },
 "nbformat": 4,
 "nbformat_minor": 5
}
